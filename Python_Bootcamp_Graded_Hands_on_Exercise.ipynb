{
  "nbformat": 4,
  "nbformat_minor": 0,
  "metadata": {
    "kernelspec": {
      "display_name": "Python 3",
      "language": "python",
      "name": "python3"
    },
    "language_info": {
      "codemirror_mode": {
        "name": "ipython",
        "version": 3
      },
      "file_extension": ".py",
      "mimetype": "text/x-python",
      "name": "python",
      "nbconvert_exporter": "python",
      "pygments_lexer": "ipython3",
      "version": "3.7.6"
    },
    "colab": {
      "name": "Python Bootcamp Graded Hands-on Exercise.ipynb",
      "provenance": [],
      "collapsed_sections": [],
      "include_colab_link": true
    }
  },
  "cells": [
    {
      "cell_type": "markdown",
      "metadata": {
        "id": "view-in-github",
        "colab_type": "text"
      },
      "source": [
        "<a href=\"https://colab.research.google.com/github/deleayobankole/deleayobankole/blob/main/Python_Bootcamp_Graded_Hands_on_Exercise.ipynb\" target=\"_parent\"><img src=\"https://colab.research.google.com/assets/colab-badge.svg\" alt=\"Open In Colab\"/></a>"
      ]
    },
    {
      "cell_type": "markdown",
      "metadata": {
        "id": "A8yCrhVHQ_lC"
      },
      "source": [
        "##Overview\n",
        "\n",
        "Dear Learner, \n",
        "\n",
        "Congratulations, you have studied Python all the way through the end of this bootcamp!!! This is the final graded hands-on exercise where you will be accomplishing the below mentioned task.\n",
        "\n",
        "Authors: Albana Celepija, Vinayak Deshpande"
      ]
    },
    {
      "cell_type": "markdown",
      "metadata": {
        "id": "y_B39vCQGRTH"
      },
      "source": [
        "###Task 1\n",
        "\n",
        "We have declared a tuple containing five same elements as following:\n",
        "T = (‘python’, ‘python’, ‘python’, ‘python’, ‘python’).\n",
        "Re-write the same code in an optimal/simple way that fetches the same result."
      ]
    },
    {
      "cell_type": "code",
      "metadata": {
        "id": "x13kqzTSaUN5",
        "outputId": "fbde312d-f2bf-4002-e481-6adaf07e2c89",
        "colab": {
          "base_uri": "https://localhost:8080/"
        }
      },
      "source": [
        "teststring = \"python, \" * 5\n",
        "print(teststring)"
      ],
      "execution_count": 16,
      "outputs": [
        {
          "output_type": "stream",
          "name": "stdout",
          "text": [
            "python, python, python, python, python, \n"
          ]
        }
      ]
    },
    {
      "cell_type": "markdown",
      "metadata": {
        "id": "H_8tFcijGRTQ"
      },
      "source": [
        "###Task 2\n",
        "\n",
        "Write code to print characters from a string that are present at an even index number.\n",
        "For example, if your input string is \"python\", the output characters will be (p,t,o)."
      ]
    },
    {
      "cell_type": "code",
      "metadata": {
        "id": "aBZSl4RpMWsv",
        "outputId": "bca47d93-c628-4880-d820-0c99d2a4ab6f",
        "colab": {
          "base_uri": "https://localhost:8080/"
        }
      },
      "source": [
        "anystring = \"LearningPython\"\n",
        "\n",
        "#to iterate, we define the start point, endpoint, and step. I am leaving the endpoint blank since I will be looping till the end of the string\n",
        "\n",
        "for xter in anystring[0::2]:\n",
        "  print(xter)"
      ],
      "execution_count": 15,
      "outputs": [
        {
          "output_type": "stream",
          "name": "stdout",
          "text": [
            "L\n",
            "a\n",
            "n\n",
            "n\n",
            "P\n",
            "t\n",
            "o\n"
          ]
        }
      ]
    },
    {
      "cell_type": "markdown",
      "metadata": {
        "id": "FbLVbwcsGRTT"
      },
      "source": [
        "### Task 3\n",
        "\n",
        "Write a function that calculates the average of the elements of the list: \n",
        "\n",
        "elements = [5, 7, 4, 9, 2]\n"
      ]
    },
    {
      "cell_type": "code",
      "metadata": {
        "id": "3SPAVBI_72yM",
        "outputId": "891d2214-9e47-4b7c-c9cb-380c99f17c72",
        "colab": {
          "base_uri": "https://localhost:8080/"
        }
      },
      "source": [
        "import math\n",
        "elements = [5, 7, 4, 9, 2]\n",
        "x = len(elements) #number of items in the list\n",
        "y = sum(elements) #sum of all the items in the list\n",
        "av = y/x          #average is sum of items divided by number of items\n",
        "print(\"Average = \", av)"
      ],
      "execution_count": 14,
      "outputs": [
        {
          "output_type": "stream",
          "name": "stdout",
          "text": [
            "Average =  5.4\n"
          ]
        }
      ]
    },
    {
      "cell_type": "markdown",
      "metadata": {
        "id": "2pzfM3wS4oqt"
      },
      "source": [
        "### Task 4\n",
        "Write code to find if the given year is a leap year or not."
      ]
    },
    {
      "cell_type": "code",
      "metadata": {
        "id": "5pW2z2Q66ywF",
        "outputId": "daed07c7-1093-4e44-a0c5-72f4815e25c6",
        "colab": {
          "base_uri": "https://localhost:8080/"
        }
      },
      "source": [
        "import calendar\n",
        "leap = calendar.isleap(2020)\n",
        "print(leap)"
      ],
      "execution_count": 1,
      "outputs": [
        {
          "output_type": "stream",
          "name": "stdout",
          "text": [
            "True\n"
          ]
        }
      ]
    },
    {
      "cell_type": "markdown",
      "metadata": {
        "id": "zsVw9yrD5drx"
      },
      "source": [
        "### Task 5\n",
        "Given a list of numbers (integers), find the sum of second maximum and second minimum in the following list.\n",
        "\n",
        "l = [21, 6, 12, 57, 35, 61]"
      ]
    },
    {
      "cell_type": "code",
      "metadata": {
        "id": "xg1FlT15Bz6u",
        "outputId": "86da0a5a-54b2-4b89-df55-14019fc97ba4",
        "colab": {
          "base_uri": "https://localhost:8080/"
        }
      },
      "source": [
        "integers = [21, 6, 12, 57, 35, 61]\n",
        "\n",
        "#sort the numbers in the list\n",
        "integers.sort()\n",
        "\n",
        "#after sorting, second lowest (sl) is at index [1] and second highest (sh) is at index [-2]\n",
        "sl = integers[1]\n",
        "sh = integers[-2]\n",
        "\n",
        "#add them together\n",
        "add = sl+sh\n",
        "\n",
        "print(\"Sum of second lowest and second highest numbers in the list = \", add)\n"
      ],
      "execution_count": 13,
      "outputs": [
        {
          "output_type": "stream",
          "name": "stdout",
          "text": [
            "Sum of second lowest and second highest numbers in the list =  69\n"
          ]
        }
      ]
    },
    {
      "cell_type": "markdown",
      "metadata": {
        "id": "ftPUY0J_pfa-"
      },
      "source": [
        "##Scores\n",
        "\n",
        "Each of the tasks is of 2 mark each and the scores will be given accordingly after the notebook review."
      ]
    }
  ]
}