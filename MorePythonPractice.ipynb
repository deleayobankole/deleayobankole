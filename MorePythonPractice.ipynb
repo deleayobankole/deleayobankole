{
  "nbformat": 4,
  "nbformat_minor": 0,
  "metadata": {
    "colab": {
      "name": "MorePythonPractice.ipynb",
      "provenance": [],
      "authorship_tag": "ABX9TyNQFrMGTfErxz2I/WWsHCvi",
      "include_colab_link": true
    },
    "kernelspec": {
      "name": "python3",
      "display_name": "Python 3"
    },
    "language_info": {
      "name": "python"
    }
  },
  "cells": [
    {
      "cell_type": "markdown",
      "metadata": {
        "id": "view-in-github",
        "colab_type": "text"
      },
      "source": [
        "<a href=\"https://colab.research.google.com/github/deleayobankole/deleayobankole/blob/main/MorePythonPractice.ipynb\" target=\"_parent\"><img src=\"https://colab.research.google.com/assets/colab-badge.svg\" alt=\"Open In Colab\"/></a>"
      ]
    },
    {
      "cell_type": "code",
      "metadata": {
        "colab": {
          "base_uri": "https://localhost:8080/"
        },
        "id": "mq91Cfn3wmmM",
        "outputId": "ceae9836-1562-418a-86c8-aff2eb036277"
      },
      "source": [
        "a=15\n",
        "b=25\n",
        "c=a+b\n",
        "print (c);"
      ],
      "execution_count": null,
      "outputs": [
        {
          "output_type": "stream",
          "name": "stdout",
          "text": [
            "40\n"
          ]
        }
      ]
    },
    {
      "cell_type": "code",
      "metadata": {
        "colab": {
          "base_uri": "https://localhost:8080/"
        },
        "id": "8Lm3v9qkwz9X",
        "outputId": "28b488c7-fcbf-41d9-82fa-4eee9df902b8"
      },
      "source": [
        "x=7;\n",
        "y=x**3;\n",
        "print (y);"
      ],
      "execution_count": null,
      "outputs": [
        {
          "output_type": "stream",
          "name": "stdout",
          "text": [
            "343\n"
          ]
        }
      ]
    },
    {
      "cell_type": "code",
      "metadata": {
        "colab": {
          "base_uri": "https://localhost:8080/"
        },
        "id": "rT0Ncm8KQKpo",
        "outputId": "20f8acb5-a2af-4c54-bc75-32668d096325"
      },
      "source": [
        "x = \"Hello World!\"\n",
        "print(x[-6])"
      ],
      "execution_count": null,
      "outputs": [
        {
          "output_type": "stream",
          "name": "stdout",
          "text": [
            "W\n"
          ]
        }
      ]
    },
    {
      "cell_type": "code",
      "metadata": {
        "colab": {
          "base_uri": "https://localhost:8080/",
          "height": 35
        },
        "id": "1gLdqkDBQl9j",
        "outputId": "991239da-dcb2-4cf5-add0-5d5f9069e682"
      },
      "source": [
        "'Hello'"
      ],
      "execution_count": null,
      "outputs": [
        {
          "output_type": "execute_result",
          "data": {
            "application/vnd.google.colaboratory.intrinsic+json": {
              "type": "string"
            },
            "text/plain": [
              "'Hello'"
            ]
          },
          "metadata": {},
          "execution_count": 3
        }
      ]
    },
    {
      "cell_type": "code",
      "metadata": {
        "colab": {
          "base_uri": "https://localhost:8080/",
          "height": 35
        },
        "id": "QW1xVu9LQoDI",
        "outputId": "f2a16ca1-7b90-4f97-fdc3-bbf91a7a8338"
      },
      "source": [
        "\"Hello\""
      ],
      "execution_count": null,
      "outputs": [
        {
          "output_type": "execute_result",
          "data": {
            "application/vnd.google.colaboratory.intrinsic+json": {
              "type": "string"
            },
            "text/plain": [
              "'Hello'"
            ]
          },
          "metadata": {},
          "execution_count": 4
        }
      ]
    },
    {
      "cell_type": "code",
      "metadata": {
        "colab": {
          "base_uri": "https://localhost:8080/"
        },
        "id": "V-UI0yUjQqQn",
        "outputId": "591f5320-5de2-460d-e08e-c88dcbf4212b"
      },
      "source": [
        "s = \"Python is easy to learn\"\n",
        "print(s[17:])"
      ],
      "execution_count": null,
      "outputs": [
        {
          "output_type": "stream",
          "name": "stdout",
          "text": [
            " learn\n"
          ]
        }
      ]
    },
    {
      "cell_type": "code",
      "metadata": {
        "colab": {
          "base_uri": "https://localhost:8080/"
        },
        "id": "GPmd36EBS4zn",
        "outputId": "a85ca052-a38f-4180-ec96-c6b9c8abde80"
      },
      "source": [
        "first_name = \"abc\";\n",
        "last_name = \"xyz\";\n",
        "\n",
        "#Hello abc xyz! You just delved into python\n",
        "\n",
        "print('Hello' + \" \" + first_name + \" \" + last_name + \"! \" + \"You just delved into python\" )"
      ],
      "execution_count": null,
      "outputs": [
        {
          "output_type": "stream",
          "name": "stdout",
          "text": [
            "Hello abc xyz! You just delved into python\n"
          ]
        }
      ]
    },
    {
      "cell_type": "code",
      "metadata": {
        "id": "Zzj5Yx47RpOk",
        "colab": {
          "base_uri": "https://localhost:8080/"
        },
        "outputId": "63eb04f8-dcca-4f7a-b35f-4b03cbb38dd2"
      },
      "source": [
        "items = [\"Ade\", \"Tifedayo\", 37, 1.98, \"Yemisi\"];\n",
        "print(items)"
      ],
      "execution_count": null,
      "outputs": [
        {
          "output_type": "stream",
          "name": "stdout",
          "text": [
            "['Ade', 'Tifedayo', 37, 1.98, 'Yemisi']\n"
          ]
        }
      ]
    },
    {
      "cell_type": "code",
      "metadata": {
        "colab": {
          "base_uri": "https://localhost:8080/"
        },
        "id": "sjz0RgVHPLgj",
        "outputId": "e6057983-75ab-4d7b-8f65-5015220f13b8"
      },
      "source": [
        "print(items[2])"
      ],
      "execution_count": null,
      "outputs": [
        {
          "output_type": "stream",
          "name": "stdout",
          "text": [
            "37\n"
          ]
        }
      ]
    },
    {
      "cell_type": "code",
      "metadata": {
        "colab": {
          "base_uri": "https://localhost:8080/"
        },
        "id": "zpiNIqJZPjd2",
        "outputId": "2a0a7910-3b87-4f37-a0ca-63acb52b13cd"
      },
      "source": [
        "items.insert(1,\"Daystar\")\n",
        "print(items)"
      ],
      "execution_count": null,
      "outputs": [
        {
          "output_type": "stream",
          "name": "stdout",
          "text": [
            "['Ade', 'Daystar', 'Tifedayo', 37, 1.98, 'Yemisi']\n"
          ]
        }
      ]
    },
    {
      "cell_type": "code",
      "metadata": {
        "colab": {
          "base_uri": "https://localhost:8080/"
        },
        "id": "iSOfVv2kUfLd",
        "outputId": "2fae7811-2f5d-4a6e-847e-dfc7d42ff020"
      },
      "source": [
        "bathroom=[\"Soap\",\"Detergent\",\"Toothpaste\",\"Shaving stick\"]\n",
        "grocery = items + bathroom\n",
        "print(grocery);"
      ],
      "execution_count": null,
      "outputs": [
        {
          "output_type": "stream",
          "name": "stdout",
          "text": [
            "['Ade', 'Daystar', 'Tifedayo', 37, 1.98, 'Yemisi', 'Soap', 'Detergent', 'Toothpaste', 'Shaving stick']\n"
          ]
        }
      ]
    },
    {
      "cell_type": "code",
      "metadata": {
        "colab": {
          "base_uri": "https://localhost:8080/"
        },
        "id": "vX2G-RN6U5jD",
        "outputId": "d66471dc-8a29-49e8-9cba-d594b9098f10"
      },
      "source": [
        "#Python Assignment\n",
        "#Create a list to store monthly expenses\n",
        "expenses = [2200, 2350, 2600, 2130, 2190]\n",
        "print(expenses);"
      ],
      "execution_count": null,
      "outputs": [
        {
          "output_type": "stream",
          "name": "stdout",
          "text": [
            "[2200, 2350, 2600, 2130, 2190]\n"
          ]
        }
      ]
    },
    {
      "cell_type": "code",
      "metadata": {
        "colab": {
          "base_uri": "https://localhost:8080/"
        },
        "id": "1fbm9GGtY7xz",
        "outputId": "22f3ca67-96dc-4d14-df76-8f770c207265"
      },
      "source": [
        "# 1. How many extra dollars did you spend in February compared to January?\n",
        "print(expenses[1])"
      ],
      "execution_count": null,
      "outputs": [
        {
          "output_type": "stream",
          "name": "stdout",
          "text": [
            "2350\n"
          ]
        }
      ]
    },
    {
      "cell_type": "code",
      "metadata": {
        "colab": {
          "base_uri": "https://localhost:8080/"
        },
        "id": "6g3e508KZThU",
        "outputId": "1a371760-32d5-47a7-b726-41ae2474520c"
      },
      "source": [
        "extra = (expenses[1] - expenses[0])\n",
        "print(extra)"
      ],
      "execution_count": null,
      "outputs": [
        {
          "output_type": "stream",
          "name": "stdout",
          "text": [
            "150\n"
          ]
        }
      ]
    },
    {
      "cell_type": "code",
      "metadata": {
        "colab": {
          "base_uri": "https://localhost:8080/"
        },
        "id": "ckstsAbWZ8D6",
        "outputId": "90ab73a5-d47d-4386-fb00-b83866ba41ed"
      },
      "source": [
        "# 2. Total expense in the first quarter of the year\n",
        "total = (expenses[0] + expenses[1] + expenses[2])\n",
        "print(total)"
      ],
      "execution_count": null,
      "outputs": [
        {
          "output_type": "stream",
          "name": "stdout",
          "text": [
            "7150\n"
          ]
        }
      ]
    },
    {
      "cell_type": "code",
      "metadata": {
        "colab": {
          "base_uri": "https://localhost:8080/"
        },
        "id": "dSrkAv42aeD7",
        "outputId": "5c18d462-ea14-44d2-b664-bc05c80be579"
      },
      "source": [
        "# 3. Find out if you spent exactly 2000 dollars in any month\n",
        "2000 in expenses"
      ],
      "execution_count": null,
      "outputs": [
        {
          "output_type": "execute_result",
          "data": {
            "text/plain": [
              "False"
            ]
          },
          "metadata": {},
          "execution_count": 12
        }
      ]
    },
    {
      "cell_type": "code",
      "metadata": {
        "id": "Qd3y85X_eD0Y",
        "colab": {
          "base_uri": "https://localhost:8080/"
        },
        "outputId": "d08b96f0-cbb9-401a-ce82-388b29653a48"
      },
      "source": [
        "expenses = [2200, 2350, 2600, 2130, 2190]\n",
        "print(expenses)"
      ],
      "execution_count": 20,
      "outputs": [
        {
          "output_type": "stream",
          "name": "stdout",
          "text": [
            "[2200, 2350, 2600, 2130, 2190]\n"
          ]
        }
      ]
    },
    {
      "cell_type": "code",
      "metadata": {
        "colab": {
          "base_uri": "https://localhost:8080/"
        },
        "id": "thpR04pUp3JK",
        "outputId": "0290fc8a-7f67-476a-e177-fd5077e33bf8"
      },
      "source": [
        "# 4. Your June expense is $1980. Add this to your list\n",
        "expenses.append(1980)\n",
        "print(expenses)"
      ],
      "execution_count": 21,
      "outputs": [
        {
          "output_type": "stream",
          "name": "stdout",
          "text": [
            "[2200, 2350, 2600, 2130, 2190, 1980]\n"
          ]
        }
      ]
    },
    {
      "cell_type": "code",
      "metadata": {
        "colab": {
          "base_uri": "https://localhost:8080/"
        },
        "id": "xpnDLkGzqFeH",
        "outputId": "8a568383-97d9-46c7-c1d0-ae3b21296be8"
      },
      "source": [
        "# 5. You got a refund of $200 in April, update your list to refelct this change\n",
        "apr = (expenses[3]-200)\n",
        "print(apr)"
      ],
      "execution_count": 22,
      "outputs": [
        {
          "output_type": "stream",
          "name": "stdout",
          "text": [
            "1930\n"
          ]
        }
      ]
    },
    {
      "cell_type": "code",
      "metadata": {
        "colab": {
          "base_uri": "https://localhost:8080/"
        },
        "id": "inanKlAntix_",
        "outputId": "6d26f633-aa39-4b55-b89a-21bce5a757ef"
      },
      "source": [
        "expenses=[2200,2350,2600,1930,2190,1980]\n",
        "print(expenses)"
      ],
      "execution_count": 23,
      "outputs": [
        {
          "output_type": "stream",
          "name": "stdout",
          "text": [
            "[2200, 2350, 2600, 1930, 2190, 1980]\n"
          ]
        }
      ]
    },
    {
      "cell_type": "code",
      "metadata": {
        "id": "7s9hXtqntx5z"
      },
      "source": [
        ""
      ],
      "execution_count": null,
      "outputs": []
    },
    {
      "cell_type": "markdown",
      "metadata": {
        "id": "HJV07zQG152R"
      },
      "source": [
        "Practice Test 3 from DPhi"
      ]
    },
    {
      "cell_type": "code",
      "metadata": {
        "colab": {
          "base_uri": "https://localhost:8080/"
        },
        "id": "ME1CYvgM2nA5",
        "outputId": "1705806d-482a-4469-98b5-ed0096b09923"
      },
      "source": [
        "t = (4, 4, 5, 3, 4, 2, 5, 6)\n",
        "print(t.count(4))"
      ],
      "execution_count": 27,
      "outputs": [
        {
          "output_type": "stream",
          "name": "stdout",
          "text": [
            "3\n"
          ]
        }
      ]
    },
    {
      "cell_type": "code",
      "metadata": {
        "colab": {
          "base_uri": "https://localhost:8080/"
        },
        "id": "S736zFZz4-gi",
        "outputId": "ba8db4c4-3d2f-4fe1-bc01-580bd32f1a29"
      },
      "source": [
        "def timemachine(tmc):\n",
        "  result = tmc * 250;\n",
        "  print(result)\n",
        "\n",
        "timemachine(50)"
      ],
      "execution_count": 30,
      "outputs": [
        {
          "output_type": "stream",
          "name": "stdout",
          "text": [
            "12500\n"
          ]
        }
      ]
    },
    {
      "cell_type": "code",
      "metadata": {
        "colab": {
          "base_uri": "https://localhost:8080/"
        },
        "id": "qHx5XurFABOf",
        "outputId": "f6266a8e-48d2-46c5-9110-1c46e6037d66"
      },
      "source": [
        "timemachine(1000)"
      ],
      "execution_count": 31,
      "outputs": [
        {
          "output_type": "stream",
          "name": "stdout",
          "text": [
            "250000\n"
          ]
        }
      ]
    },
    {
      "cell_type": "code",
      "metadata": {
        "colab": {
          "base_uri": "https://localhost:8080/"
        },
        "id": "sG5NVjG9AxR4",
        "outputId": "291e6eb2-2b3e-4717-eeb2-5d5fc301c9b9"
      },
      "source": [
        "import math\n",
        "dir(math)"
      ],
      "execution_count": 1,
      "outputs": [
        {
          "output_type": "execute_result",
          "data": {
            "text/plain": [
              "['__doc__',\n",
              " '__loader__',\n",
              " '__name__',\n",
              " '__package__',\n",
              " '__spec__',\n",
              " 'acos',\n",
              " 'acosh',\n",
              " 'asin',\n",
              " 'asinh',\n",
              " 'atan',\n",
              " 'atan2',\n",
              " 'atanh',\n",
              " 'ceil',\n",
              " 'copysign',\n",
              " 'cos',\n",
              " 'cosh',\n",
              " 'degrees',\n",
              " 'e',\n",
              " 'erf',\n",
              " 'erfc',\n",
              " 'exp',\n",
              " 'expm1',\n",
              " 'fabs',\n",
              " 'factorial',\n",
              " 'floor',\n",
              " 'fmod',\n",
              " 'frexp',\n",
              " 'fsum',\n",
              " 'gamma',\n",
              " 'gcd',\n",
              " 'hypot',\n",
              " 'inf',\n",
              " 'isclose',\n",
              " 'isfinite',\n",
              " 'isinf',\n",
              " 'isnan',\n",
              " 'ldexp',\n",
              " 'lgamma',\n",
              " 'log',\n",
              " 'log10',\n",
              " 'log1p',\n",
              " 'log2',\n",
              " 'modf',\n",
              " 'nan',\n",
              " 'pi',\n",
              " 'pow',\n",
              " 'radians',\n",
              " 'remainder',\n",
              " 'sin',\n",
              " 'sinh',\n",
              " 'sqrt',\n",
              " 'tan',\n",
              " 'tanh',\n",
              " 'tau',\n",
              " 'trunc']"
            ]
          },
          "metadata": {},
          "execution_count": 1
        }
      ]
    },
    {
      "cell_type": "code",
      "metadata": {
        "colab": {
          "base_uri": "https://localhost:8080/"
        },
        "id": "3Q4PbbV0xJqU",
        "outputId": "07bee98c-545d-4d64-ec38-5be6cc046db0"
      },
      "source": [
        "math.sqrt(25)"
      ],
      "execution_count": 2,
      "outputs": [
        {
          "output_type": "execute_result",
          "data": {
            "text/plain": [
              "5.0"
            ]
          },
          "metadata": {},
          "execution_count": 2
        }
      ]
    },
    {
      "cell_type": "code",
      "metadata": {
        "colab": {
          "base_uri": "https://localhost:8080/"
        },
        "id": "1Z5LpS6SxfSg",
        "outputId": "b43ff9fe-0c02-4992-a693-61e400031adb"
      },
      "source": [
        "math.pow(5,3)"
      ],
      "execution_count": 3,
      "outputs": [
        {
          "output_type": "execute_result",
          "data": {
            "text/plain": [
              "125.0"
            ]
          },
          "metadata": {},
          "execution_count": 3
        }
      ]
    },
    {
      "cell_type": "code",
      "metadata": {
        "colab": {
          "base_uri": "https://localhost:8080/"
        },
        "id": "fCyoJ7ugx9Kn",
        "outputId": "d6405073-5b6a-4473-f1fe-c090caf42192"
      },
      "source": [
        "import calendar\n",
        "cal = calendar.month(1984,10)\n",
        "print(cal)"
      ],
      "execution_count": 6,
      "outputs": [
        {
          "output_type": "stream",
          "name": "stdout",
          "text": [
            "    October 1984\n",
            "Mo Tu We Th Fr Sa Su\n",
            " 1  2  3  4  5  6  7\n",
            " 8  9 10 11 12 13 14\n",
            "15 16 17 18 19 20 21\n",
            "22 23 24 25 26 27 28\n",
            "29 30 31\n",
            "\n"
          ]
        }
      ]
    },
    {
      "cell_type": "code",
      "metadata": {
        "colab": {
          "base_uri": "https://localhost:8080/"
        },
        "id": "qEhUMSQ0zQFI",
        "outputId": "4c7f59d5-1e9e-45a2-9e7c-0926d07cf8b2"
      },
      "source": [
        "test = round(90.589, 1)\n",
        "print(test)"
      ],
      "execution_count": 7,
      "outputs": [
        {
          "output_type": "stream",
          "name": "stdout",
          "text": [
            "90.6\n"
          ]
        }
      ]
    },
    {
      "cell_type": "code",
      "metadata": {
        "colab": {
          "base_uri": "https://localhost:8080/"
        },
        "id": "5z3rGKvZ3lYf",
        "outputId": "1406ae46-ad53-4f14-d5b9-b9ff88d85f02"
      },
      "source": [
        "apartments =          [\n",
        "                       {'ID': '19665213.0', 'Overall Rating': '100.0', 'Price': 26.0},\n",
        "                       {'ID': '6436842.0', 'Overall Rating': '90.0', 'Price': 41.0},\n",
        "                       {'ID': '10559468.0', 'Overall Rating': '100.0', 'Price': 50.0},\n",
        "                       {'ID': '27215482.0', 'Overall Rating': '100.0', 'Price': 50.0},\n",
        "                       {'ID': '27287546.0', 'Overall Rating': '90.0', 'Price': 55.0}\n",
        "                      ]\n",
        "print(apartments[4]['Overall Rating'])              "
      ],
      "execution_count": 8,
      "outputs": [
        {
          "output_type": "stream",
          "name": "stdout",
          "text": [
            "90.0\n"
          ]
        }
      ]
    },
    {
      "cell_type": "code",
      "metadata": {
        "id": "slhCPlfD4pQv"
      },
      "source": [
        ""
      ],
      "execution_count": null,
      "outputs": []
    }
  ]
}